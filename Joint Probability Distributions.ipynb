{
 "cells": [
  {
   "cell_type": "markdown",
   "metadata": {},
   "source": [
    "# Joint Probability Distributions\n",
    "\n",
    "### Joint Probability Mass Function  \n",
    "$ f_{XY}(x, y)$\n",
    "\n",
    "### Marginal Probability Mass Function   \n",
    "$ f_x(x)=P(X=x)=\\sum\\limits_R {f_{XY}(x,y)} \\quad$ (固定X)\n",
    "- $ E(x) = \\mu_x \\\\ = \\sum\\limits_x x f_x f(x) \\\\ = \\sum\\limits_R x f_{XY}(x, y) $\n",
    "- $Var(x) = \\sigma ^2_x \\\\ = \\sum(x- \\mu_x)^2f_x(x) \\\\= \\sum\\limits_R(X-\\mu)$\n",
    "\n",
    "### Conditional Probability mass function\n",
    "$ f_{Y|X=x}(y) = f_{Y|x}(y) = \\frac {f_{XY}(x, y)} {f_X(x)} $\n",
    "\n",
    "- $ E(Y|X=x) = E(Y|x) = \\sum\\limits_{R_x}yf_{Y|x}(y) \\quad$ (固定X)\n",
    "- $ Var(Y|X=x) = Var(Y|x) = \\sum\\limits_{R_x}f_{Y|x}(y) - \\mu_{Y|x}^2$\n",
    "\n",
    "### Independent\n",
    "1. $ f_{XY} (x, y) = f_X(x)f_Y(y) $\n",
    "2. $ f_{Y|x} (y) = f_Y(y) $\n",
    "3. $ f_{X|y} (x) = f_X(x)$\n",
    "4. **$ \\sigma_{XY} = \\rho_{XY} = 0$**\n",
    "\n",
    "p.s. continuous的就把 $\\sum \\rightarrow \\int$\n",
    "\n",
    "### Covariance\n",
    "$ \\sigma_{XY} = E{(X-\\mu_X)(Y-\\mu_Y)} = E(XY) - \\mu_X \\mu_Y$\n",
    "\n",
    "### Correlation\n",
    "\n",
    "$ \\rho_{XY} = \\frac{cov(X, Y)}{\\sqrt{V(X)V(Y)}} = \\frac{\\sigma_{XY}}{\\sigma_X\\sigma_Y} \\quad (-1 \\leq \\rho_{XY} \\leq 1)$"
   ]
  },
  {
   "cell_type": "markdown",
   "metadata": {},
   "source": [
    "## Chebyshev's Inequality\n",
    "$ P( |x-\\mu| \\ge c\\sigma) \\le \\frac {1} {c^2}$  \n",
    "\n",
    "x到$\\mu$的距離小於c個標準差的機率"
   ]
  }
 ],
 "metadata": {
  "kernelspec": {
   "display_name": "Python 3",
   "language": "python",
   "name": "python3"
  },
  "language_info": {
   "codemirror_mode": {
    "name": "ipython",
    "version": 3
   },
   "file_extension": ".py",
   "mimetype": "text/x-python",
   "name": "python",
   "nbconvert_exporter": "python",
   "pygments_lexer": "ipython3",
   "version": "3.5.2"
  }
 },
 "nbformat": 4,
 "nbformat_minor": 0
}
