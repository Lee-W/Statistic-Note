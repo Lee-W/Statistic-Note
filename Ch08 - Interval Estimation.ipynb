{
 "cells": [
  {
   "cell_type": "markdown",
   "metadata": {},
   "source": [
    "# Interval Estimation\n",
    "### Interval estimate\n",
    "$ \\bar{x} \\pm \\text{margin of error} \\begin{cases} \\sigma已知 \\rightarrow z分配 \\\\ \\sigma未知 \\rightarrow t分配\\end{cases}$\n",
    "\n",
    "$ \\bar{p} \\pm \\text{margin of error}$\n",
    "\n",
    "### Confidence level\n",
    "\n",
    "Confidence Level|$\\alpha$|$\\frac {\\alpha} {2}$| ${Z_{\\frac {\\alpha} {2}}}$\n",
    "---|---|---|---\n",
    "90%|0.1|0.05|1.645\n",
    "95%|0.05|0.025|1.960\n",
    "99%|0.01|0.005|2.576\n",
    "\n",
    "###  $\\sigma$ known (並非實際知道$\\sigma$，而是過去資料或其他資訊所做的極佳推測)\n",
    "$ \\bar{x} \\pm Z_{\\frac {\\alpha} {2}} \\frac {\\sigma} {\\sqrt{n}}$\n",
    "\n",
    "### $\\sigma$ unknown (e.g. 新產品、市場變化過大的產品)\n",
    "$ \\bar{x} \\pm t_{\\frac {\\alpha} {2}} \\frac {s} {\\sqrt{n}}$\n",
    "\n",
    "- 其中 自由度=n-1 ，查表時用的值  \n",
    "- 一般表查到的都是upper value 的t值\n",
    "\n",
    "### Proper sample size\n",
    "\n",
    "$ n = \\frac {Z_{\\frac{\\alpha}{2}}^2\\sigma^2} {E^2}$\n",
    "\n",
    "- E: 可接受的marginal error\n",
    "- $\\sigma$: 過去資料推測的 $\\sigma$ or range/4\n",
    "\n",
    "### Proportion\n",
    "$\\bar{p} \\pm Z_{\\frac {\\alpha}{2}} \\sqrt{\\frac{\\bar{p}(1-\\bar{p})}{n}}$\n",
    "\n",
    "#### proper sample size\n",
    "$ n = \\frac {Z_{\\frac{\\alpha}{2}}^2p(1-p)} {E^2}$\n",
    "\n",
    "- E: 正負誤差在 $Z_{\\frac{\\alpha}{2}}$ 的信賴區間下有百分之多少\n",
    "- p: 過去資料推測的p or p = 0.5 (所求n最大，最精轉，但最耗成本) "
   ]
  }
 ],
 "metadata": {
  "kernelspec": {
   "display_name": "Python 3",
   "language": "python",
   "name": "python3"
  },
  "language_info": {
   "codemirror_mode": {
    "name": "ipython",
    "version": 3
   },
   "file_extension": ".py",
   "mimetype": "text/x-python",
   "name": "python",
   "nbconvert_exporter": "python",
   "pygments_lexer": "ipython3",
   "version": "3.6.0"
  }
 },
 "nbformat": 4,
 "nbformat_minor": 0
}
