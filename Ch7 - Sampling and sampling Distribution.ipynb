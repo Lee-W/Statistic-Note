{
 "cells": [
  {
   "cell_type": "markdown",
   "metadata": {},
   "source": [
    "#  Sampling and sampling Distribution\n",
    "\n",
    "- $ Populattion \\quad(N, \\mu, \\sigma, p) \\rightarrow Sample \\quad(n, \\bar{x}, s, \\bar{p})$\n",
    "- 用Sample 估計Population ($N \\gg n$)\n",
    "- Standard Deviation of $ \\bar{x} $\n",
    "    - 有限: $ \\sigma_{\\bar{x}} = \\sqrt{\\frac {N-n} {N-1}} (\\frac {\\sigma} {\\sqrt{n}})$\n",
    "    - 無限: $ \\sigma_{\\bar(x) = \\frac {\\sigma} {\\sqrt{n}}} \\quad ({\\infty} \\, or \\, \\frac {n} {N} \\le 0.05)$\n",
    "        - This is the **standard error** of the mean\n",
    "- 母體抽樣 $\\rightarrow$ 抽樣常態  \n",
    "  母體非常態 $\\rightarrow n \\ge 30$，抽樣視為常態\n",
    "- Standard Deviation of $ \\bar{p} $\n",
    "    - 有限: $ \\sigma_{\\bar{p}} = \\sqrt {\\frac {N-n} {N-1}} \\sqrt {\\frac {p(1-p)} {n}}$\n",
    "    - 無限: $ \\sigma_{\\bar{p}} = \\sqrt {\\frac {p(1-p)} {n}} \\quad ({\\infty} \\, or \\, \\frac {n} {N} \\le 0.05)$\n",
    "    - $ np \\ge 5, n(1-p) \\ge 5 \\quad \\rightarrow 常態$"
   ]
  }
 ],
 "metadata": {
  "kernelspec": {
   "display_name": "Python 3",
   "language": "python",
   "name": "python3"
  },
  "language_info": {
   "codemirror_mode": {
    "name": "ipython",
    "version": 3
   },
   "file_extension": ".py",
   "mimetype": "text/x-python",
   "name": "python",
   "nbconvert_exporter": "python",
   "pygments_lexer": "ipython3",
   "version": "3.5.1"
  }
 },
 "nbformat": 4,
 "nbformat_minor": 0
}
