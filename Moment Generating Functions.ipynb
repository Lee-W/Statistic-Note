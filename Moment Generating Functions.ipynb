{
 "cells": [
  {
   "cell_type": "markdown",
   "metadata": {},
   "source": [
    "$ m_x(t) = E[e^{tx}] =\n",
    "\\begin{cases}\n",
    "  \\sum_x e^{tx}p(x), \\quad for discrete\\\\\n",
    "  \\int^{+\\infty}_{-\\infty} e^{tx} f(x) dx, \\quad for continous\n",
    "\\end{cases}$\n",
    "  \n",
    "- Properties of $ m_x(t) $\n",
    "    1. $ m_x(0) = 1$\n",
    "    2. $ m_x(t) = 1 + \\mu_1 + \\frac {\\mu_2} {2!} t^2 + \\frac {\\mu_3} {3!} t^3 + ... + \\frac {\\mu_k} {k!} t^k + ...$\n",
    "    3. $ m_x^{(k)}(0) = \\frac {d^k} {dt^k} m_x(t) | _{t=0} = \\mu_k$\n",
    "    4. $ l_x(t) = \\ln m_x(t) \\\\ l'_x = \\mu \\\\ l''_x(0) = \\sigma^2$\n",
    "\n",
    "\n",
    "- $ Var(x) = E[(x-\\mu)^2] \\\\ = E(x^2)-[E(X)]^2 = \\mu_2 - \\mu_1 ^ 2$"
   ]
  }
 ],
 "metadata": {
  "kernelspec": {
   "display_name": "Python 3",
   "language": "python",
   "name": "python3"
  },
  "language_info": {
   "codemirror_mode": {
    "name": "ipython",
    "version": 3
   },
   "file_extension": ".py",
   "mimetype": "text/x-python",
   "name": "python",
   "nbconvert_exporter": "python",
   "pygments_lexer": "ipython3",
   "version": "3.5.2"
  }
 },
 "nbformat": 4,
 "nbformat_minor": 0
}
