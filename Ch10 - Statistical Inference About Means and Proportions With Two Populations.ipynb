{
 "cells": [
  {
   "cell_type": "markdown",
   "metadata": {},
   "source": [
    "## $\\sigma$ known\n",
    "\n",
    "- Interval Estimate: $(\\bar{x_1} - \\bar{x_2}) \\pm Z_{\\frac{\\alpha}{2}}\\sqrt{\\frac{\\sigma_1^2}{n_1}+\\frac{\\sigma_2^2}{n_2}}$\n",
    "- Test Statistic: $Z = \\frac{(\\bar{x_1} - \\bar{x_2}) - D_0}{\\sqrt{\\frac{\\sigma_1^2}{n_1}+\\frac{\\sigma_2^2}{n_2}})}$\n",
    "    - 大部分應用上$D_0$為0"
   ]
  },
  {
   "cell_type": "markdown",
   "metadata": {},
   "source": [
    "## $\\sigma$ unknown\n",
    "\n",
    "- Interval Estimate: $(\\bar{x_1} - \\bar{x_2}) \\pm t_{\\frac{\\alpha}{2}}\\sqrt{\\frac{S_1^2}{n_1}+\\frac{S_2^2}{n_2}}$\n",
    "\n",
    "- Test Statistic: $Z = \\frac{(\\bar{x_1} - \\bar{x_2}) - D_0}{\\sqrt{\\frac{S_1^2}{n_1}+\\frac{S_2^2}{n_2}})}$\n",
    "\n",
    "- Degree of Freedom: $df = \\frac{{S_1^2}{n_1}+\\frac{S_2^2}{n_2}}{\n",
    "\\frac{1}{n_1-1}(\\frac{S_1^2}{n_1})^2+\\frac{1}{n_2-1}(\\frac{S_2^2}{n_2})^2}$\n",
    "\n",
    "- n要無條件進位($\\because$ n越大越精準)\n",
    "- t要無條件捨去($\\because$ t越小越不會犯type one error)\n",
    "\n",
    "### Another approach that assume *$\\sigma_1 = \\sigma_2 = \\sigma$*\n",
    "\n",
    "- $S_p^2 = \\frac{(n_1-2)S1^2 + (n_2-1)S_2^2}{n_1+n_2-2}$\n",
    "- $t = \\frac{(\\bar{X_1}-\\bar{X_2})-D_o}{S_p\\sqrt{\\frac{1}{n_1}+\\frac{1}{n_2}}} $\n",
    "- $df=n_1+n_2-2$\n",
    "- 較方便，但較不精準，尤其當$n_1$, $n_2$差很多時"
   ]
  },
  {
   "cell_type": "markdown",
   "metadata": {},
   "source": [
    "## Matched Sample\n",
    "\n",
    "同一批人做兩次不同試驗 $\\rightarrow$ 較independent sample精準\n",
    "\n",
    "- $t = \\frac{\\bar{d} - \\mu_d} {\\frac{S_d}{\\sqrt{n}}}$\n",
    "- $df=n-1$"
   ]
  },
  {
   "cell_type": "markdown",
   "metadata": {},
   "source": [
    "## Proportion\n",
    "\n",
    "\n",
    "- Interval Estimate: $(\\bar{P_1}-\\bar{P_2}) \\pm Z_{\\frac{\\alpha}{2}}\\sqrt{\\frac{\\bar{P_1}(1-\\bar{P_1})}{n_2}+\\frac{\\bar{P_2}(1-\\bar{P_2})}{n_2}}$\n",
    "- Test Static: $Z = \\frac{\\bar{P_1}-\\bar{P_2}}{\\sqrt{\\bar{P}(1-\\bar{P}(\\frac{1}{n_1}+\\frac{1}{n_2}))}}$\n",
    "    - $\\bar{P}=\\frac{n_1\\bar{P_1}+n_2\\bar{P_2}}{n_1+n_2}$"
   ]
  }
 ],
 "metadata": {
  "kernelspec": {
   "display_name": "Python 3",
   "language": "python",
   "name": "python3"
  },
  "language_info": {
   "codemirror_mode": {
    "name": "ipython",
    "version": 3
   },
   "file_extension": ".py",
   "mimetype": "text/x-python",
   "name": "python",
   "nbconvert_exporter": "python",
   "pygments_lexer": "ipython3",
   "version": "3.6.0"
  }
 },
 "nbformat": 4,
 "nbformat_minor": 2
}
