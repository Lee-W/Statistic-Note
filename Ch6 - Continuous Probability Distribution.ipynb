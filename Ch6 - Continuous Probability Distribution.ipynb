{
 "cells": [
  {
   "cell_type": "code",
   "execution_count": 1,
   "metadata": {
    "collapsed": false
   },
   "outputs": [],
   "source": [
    "% matplotlib inline\n",
    "import numpy as np\n",
    "import matplotlib.pyplot as plt\n",
    "from scipy.stats import expon, uniform, norm"
   ]
  },
  {
   "cell_type": "markdown",
   "metadata": {},
   "source": [
    "# Continuous Probability Distribution"
   ]
  },
  {
   "cell_type": "markdown",
   "metadata": {},
   "source": [
    "## Uniform Distribution\n",
    "\n",
    "- $ f(x) = \\begin{cases}\n",
    "\\frac {1} {b-a}, if a \\le x \\le b \\\\\n",
    "0, elsewhere\n",
    "\\end{cases} $\n",
    "- $ E(x) = \\frac {a+b} {2} $\n",
    "- $ Var(x) = \\frac {(b-a)^2} {12}$"
   ]
  },
  {
   "cell_type": "code",
   "execution_count": 2,
   "metadata": {
    "collapsed": false
   },
   "outputs": [
    {
     "data": {
      "text/plain": [
       "[<matplotlib.lines.Line2D at 0x1071dc8d0>]"
      ]
     },
     "execution_count": 2,
     "metadata": {},
     "output_type": "execute_result"
    },
    {
     "data": {
      "image/png": "[encoded data removed]",
      "text/plain": [
       "<matplotlib.figure.Figure at 0x1071dc898>"
      ]
     },
     "metadata": {},
     "output_type": "display_data"
    }
   ],
   "source": [
    "x = np.linspace(uniform.ppf(0.01), uniform.ppf(0.99), 100)\n",
    "plt.xlabel('x')\n",
    "plt.ylabel('f(x)', rotation=0)\n",
    "plt.plot(x, uniform.pdf(x))"
   ]
  },
  {
   "cell_type": "markdown",
   "metadata": {},
   "source": [
    "## Normal Distribution\n",
    "\n",
    "$ f(x) = \\frac {1} {\\sigma \\sqrt {2 \\pi}} e ^ \\frac {-{(x-\\mu)}^2} {2 \\sigma^2}$"
   ]
  },
  {
   "cell_type": "code",
   "execution_count": 3,
   "metadata": {
    "collapsed": false
   },
   "outputs": [],
   "source": [
    "def draw_normal_dis(*, mean=0, std=1, upperbound=10, lowerbound=-10):\n",
    "    x = np.linspace(lowerbound, upperbound, 100)\n",
    "    y = norm.pdf(x, loc=mean, scale=std)\n",
    "    plt.plot(x, y)"
   ]
  },
  {
   "cell_type": "code",
   "execution_count": 4,
   "metadata": {
    "collapsed": false
   },
   "outputs": [
    {
     "data": {
      "image/png": "[encoded data removed]",
      "text/plain": [
       "<matplotlib.figure.Figure at 0x1071dc7f0>"
      ]
     },
     "metadata": {},
     "output_type": "display_data"
    }
   ],
   "source": [
    "draw_normal_dis(mean=2, std=3)"
   ]
  },
  {
   "cell_type": "markdown",
   "metadata": {},
   "source": [
    "### Propertities\n",
    "1. The highest point = mean = medium = mode\n",
    "2. skewness = 0\n",
    "3. $ \\sigma \\uparrow \\Rightarrow  \\text{flatter, wider}$\n",
    "4. $ 1 \\sigma \\rightarrow 68.3 \\% \\\\\n",
    "     2 \\sigma \\rightarrow 95.4 \\% \\\\\n",
    "     3 \\sigma \\rightarrow 99.7 \\% $"
   ]
  },
  {
   "cell_type": "markdown",
   "metadata": {},
   "source": [
    "### Z\n",
    "$ Z = \\frac {x - \\mu} {\\sigma} \\rightarrow x跟平均\\mu差了幾個標準差$"
   ]
  },
  {
   "cell_type": "markdown",
   "metadata": {},
   "source": [
    "### Standard Normal Distribution\n",
    "\n",
    "- $ f(z) = \\frac {1} {\\sqrt {2\\pi}} e^{\\frac {-z^2} {2}} $ \n",
    "    - $ \\text{mean = 0} \\quad (\\mu) $\n",
    "    - $ \\text{standard deviation = 1} \\quad (\\sigma)$"
   ]
  },
  {
   "cell_type": "code",
   "execution_count": 5,
   "metadata": {
    "collapsed": false
   },
   "outputs": [
    {
     "data": {
      "image/png": "[encoded data removed]",
      "text/plain": [
       "<matplotlib.figure.Figure at 0x1073f30b8>"
      ]
     },
     "metadata": {},
     "output_type": "display_data"
    }
   ],
   "source": [
    "draw_normal_dis(mean=0, std=1)"
   ]
  },
  {
   "cell_type": "markdown",
   "metadata": {},
   "source": [
    "當二項分配符合\n",
    "1. $ n > 20 $\n",
    "2. $ np \\ge 5 $\n",
    "3. $ n(1-p) \\ge 5$\n",
    "\n",
    "\n",
    "幾乎會視為常態分配  \n",
    "此時依然可使用 $ \\mu = np, \\quad \\sigma = \\sqrt {np(1-p)}$\n",
    "\n",
    "**計算時，將要求的值*上下加減0.5*形成一個區間，才可以用常態分配運算**  \n",
    "( $\\because$ 連續機率分部中，單點機率=0)"
   ]
  },
  {
   "cell_type": "markdown",
   "metadata": {},
   "source": [
    "## Expotential Distribution\n",
    "\n",
    "$ f(x) \\\\\n",
    "  = \\frac {1} {\\mu} e ^{\\frac {-x} {\\mu}} \\\\\n",
    "  = \\lambda e ^ {-\\lambda x} \\\\\n",
    "  (for \\quad x \\ge 0, \\mu \\ge 0)$\n",
    "  \n",
    "  \n",
    "$ \\text{comulative probailities} \\quad \\Rightarrow \\quad P(X \\le X_{0}) = 1 - e ^{\\frac {-X_0} {\\mu}}, \\quad \\mu = \\sigma$"
   ]
  },
  {
   "cell_type": "code",
   "execution_count": 6,
   "metadata": {
    "collapsed": false
   },
   "outputs": [
    {
     "data": {
      "text/plain": [
       "[<matplotlib.lines.Line2D at 0x1073020b8>]"
      ]
     },
     "execution_count": 6,
     "metadata": {},
     "output_type": "execute_result"
    },
    {
     "data": {
      "image/png": "[encoded data removed]",
      "text/plain": [
       "<matplotlib.figure.Figure at 0x107406ac8>"
      ]
     },
     "metadata": {},
     "output_type": "display_data"
    }
   ],
   "source": [
    "x = np.linspace(expon.ppf(0.01), expon.ppf(0.99), 100)\n",
    "plt.xlabel('x')\n",
    "plt.ylabel('f(x)', rotation=0)\n",
    "plt.plot(x, expon.pdf(x))"
   ]
  }
 ],
 "metadata": {
  "kernelspec": {
   "display_name": "Python 3",
   "language": "python",
   "name": "python3"
  },
  "language_info": {
   "codemirror_mode": {
    "name": "ipython",
    "version": 3
   },
   "file_extension": ".py",
   "mimetype": "text/x-python",
   "name": "python",
   "nbconvert_exporter": "python",
   "pygments_lexer": "ipython3",
   "version": "3.5.1"
  }
 },
 "nbformat": 4,
 "nbformat_minor": 0
}
